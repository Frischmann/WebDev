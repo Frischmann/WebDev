{
 "cells": [
  {
   "cell_type": "markdown",
   "metadata": {},
   "source": [
    "# Практическая работа №6 «JavaScript. Математические функции. Строковые функции. Функции для массивов»"
   ]
  },
  {
   "cell_type": "markdown",
   "metadata": {},
   "source": [
    "# «Математические функции»"
   ]
  },
  {
   "cell_type": "markdown",
   "metadata": {},
   "source": [
    "# Задания"
   ]
  },
  {
   "cell_type": "markdown",
   "metadata": {},
   "source": [
    "## Задание 1: «Работа с %»"
   ]
  },
  {
   "cell_type": "markdown",
   "metadata": {},
   "source": [
    "Задача 1.1 Даны переменные a = 10 и b = 3. Найти остаток от деления a на b."
   ]
  },
  {
   "cell_type": "code",
   "execution_count": 9,
   "metadata": {},
   "outputs": [
    {
     "name": "stdout",
     "output_type": "stream",
     "text": [
      "1\n"
     ]
    }
   ],
   "source": [
    "a = 10\n",
    "b = 3\n",
    "console.log(a % b)"
   ]
  },
  {
   "cell_type": "markdown",
   "metadata": {},
   "source": [
    "Задача 1.2 Даны переменные a и b. Проверить, что a делится без остатка на b. Если это так - выведите 'Делится' и результат деления, иначе вывести 'Делится с остатком' и остаток от деления."
   ]
  },
  {
   "cell_type": "code",
   "execution_count": 1,
   "metadata": {},
   "outputs": [
    {
     "name": "stdout",
     "output_type": "stream",
     "text": [
      "Делится с остатком = 1\n",
      "Делится = 2\n"
     ]
    }
   ],
   "source": [
    "check = (a, b) => {\n",
    "    a % b == 0 ? console.log(`Делится = ${a / b}`) \n",
    "    : console.log(`Делится с остатком = ${a % b}`)\n",
    "}\n",
    "\n",
    "check(5, 2)\n",
    "check(10, 5)"
   ]
  },
  {
   "cell_type": "markdown",
   "metadata": {},
   "source": [
    "## Задание 2: «Работа со степенью и корнем»"
   ]
  },
  {
   "cell_type": "markdown",
   "metadata": {},
   "source": [
    "### Для решения задач данного блока вам понадобятся следующие методы: Math.pow, Math.sqrt."
   ]
  },
  {
   "cell_type": "markdown",
   "metadata": {},
   "source": [
    "Задача 2.1 Возвести 2 в 10 степень. Результат записать в переменную st."
   ]
  },
  {
   "cell_type": "code",
   "execution_count": 11,
   "metadata": {},
   "outputs": [
    {
     "name": "stdout",
     "output_type": "stream",
     "text": [
      "1024\n"
     ]
    }
   ],
   "source": [
    "st = Math.pow(2, 10)\n",
    "console.log(st)"
   ]
  },
  {
   "cell_type": "markdown",
   "metadata": {},
   "source": [
    "Задача 2.2 Найти квадратный корень из 245."
   ]
  },
  {
   "cell_type": "code",
   "execution_count": 12,
   "metadata": {},
   "outputs": [
    {
     "name": "stdout",
     "output_type": "stream",
     "text": [
      "15.652475842498529\n"
     ]
    }
   ],
   "source": [
    "console.log(Math.sqrt(245))"
   ]
  },
  {
   "cell_type": "markdown",
   "metadata": {},
   "source": [
    "Задача 2.3 Дан массив с элементами 4, 2, 5, 19, 13, 0, 10. Найти квадратный корень из суммы кубов его элементов. Для решения воспользоваться циклом for"
   ]
  },
  {
   "cell_type": "code",
   "execution_count": 13,
   "metadata": {},
   "outputs": [
    {
     "name": "stdout",
     "output_type": "stream",
     "text": [
      "101.25709851659784\n"
     ]
    }
   ],
   "source": [
    "arr = [4, 2, 5, 19, 13, 0, 10]\n",
    "sum = 0\n",
    "\n",
    "for(i in arr)\n",
    "    sum += Math.pow(arr[i], 3)\n",
    "\n",
    "console.log(Math.sqrt(sum))"
   ]
  },
  {
   "cell_type": "markdown",
   "metadata": {},
   "source": [
    "## Задание 3: «Работа с функциями округления»"
   ]
  },
  {
   "cell_type": "markdown",
   "metadata": {},
   "source": [
    "### Для решения задач данного блока вам понадобятся следующие функции: Math.round, Math.ceil, Math.floor, toFixed, toPrecision."
   ]
  },
  {
   "cell_type": "markdown",
   "metadata": {},
   "source": [
    "Задача 3.1 Найти квадратный корень из 379. Результат округлить до целых, до десятых, до сотых."
   ]
  },
  {
   "cell_type": "code",
   "execution_count": 23,
   "metadata": {},
   "outputs": [
    {
     "name": "stdout",
     "output_type": "stream",
     "text": [
      "19\n",
      "19.5\n",
      "19.47\n"
     ]
    }
   ],
   "source": [
    "console.log(Math.round(Math.sqrt(379)))\n",
    "console.log(Math.sqrt(379).toPrecision(3))\n",
    "console.log(Math.sqrt(379).toPrecision(4))"
   ]
  },
  {
   "cell_type": "markdown",
   "metadata": {},
   "source": [
    "Задача 3.2 Найти квадратный корень из 587. Округлить результат в большую и меньшую стороны, записать результаты округления в объект с ключами 'floor' и 'ceil'."
   ]
  },
  {
   "cell_type": "code",
   "execution_count": 25,
   "metadata": {},
   "outputs": [
    {
     "name": "stdout",
     "output_type": "stream",
     "text": [
      "Floor = 24\n",
      "Ceil = 25\n"
     ]
    }
   ],
   "source": [
    "console.log(`Floor = ${Math.floor(Math.sqrt(587))}`)\n",
    "console.log(`Ceil = ${Math.ceil(Math.sqrt(587))}`)"
   ]
  },
  {
   "cell_type": "markdown",
   "metadata": {},
   "source": [
    "## Задание 4: «Нахождение максимального и минимального числа»"
   ]
  },
  {
   "cell_type": "markdown",
   "metadata": {},
   "source": [
    "### Для решения задачи данного блока вам понадобятся следующие методы: Math.max, Math.min."
   ]
  },
  {
   "cell_type": "markdown",
   "metadata": {},
   "source": [
    "Задача 4.1 Даны числа 4, -2, 5, 19, -130, 0, 10. Найти минимальное и максимальное число."
   ]
  },
  {
   "cell_type": "code",
   "execution_count": 4,
   "metadata": {},
   "outputs": [
    {
     "name": "stdout",
     "output_type": "stream",
     "text": [
      "Min = -130\n",
      "Max = 19\n"
     ]
    }
   ],
   "source": [
    "console.log(`Min = ${Math.min(4, -2, 5, 19, -130, 0, 10)}\n",
    "Max = ${Math.max(4, -2, 5, 19, -130, 0, 10)}`)"
   ]
  },
  {
   "cell_type": "markdown",
   "metadata": {},
   "source": [
    "## Задание 5: «Работа с рандомом»"
   ]
  },
  {
   "cell_type": "markdown",
   "metadata": {},
   "source": [
    "### Для решения задач данного блока вам понадобятся следующие методы: Math.random."
   ]
  },
  {
   "cell_type": "markdown",
   "metadata": {},
   "source": [
    "Задача 5.1 Вывести на экран случайное целое число от 1 до 100."
   ]
  },
  {
   "cell_type": "code",
   "execution_count": 30,
   "metadata": {},
   "outputs": [
    {
     "name": "stdout",
     "output_type": "stream",
     "text": [
      "17\n"
     ]
    }
   ],
   "source": [
    "console.log(Math.floor(Math.random() * 100) + 1)"
   ]
  },
  {
   "cell_type": "markdown",
   "metadata": {},
   "source": [
    "Задача 5.2 Заполнить массив 10-ю случайными целыми числами. (Подсказка: нужно воспользоваться циклами for или while). "
   ]
  },
  {
   "cell_type": "code",
   "execution_count": 33,
   "metadata": {},
   "outputs": [
    {
     "name": "stdout",
     "output_type": "stream",
     "text": [
      "[\n",
      "  95, 96, 77, 25, 100,\n",
      "  70, 68, 25, 32,  86\n",
      "]\n"
     ]
    }
   ],
   "source": [
    "for(var i = 0; i < 10; i++)\n",
    "    arr[i] = Math.floor(Math.random() * 100) + 1\n",
    "\n",
    "console.log(arr)"
   ]
  },
  {
   "cell_type": "markdown",
   "metadata": {},
   "source": [
    "## Задание 6: «Работа с модулем»"
   ]
  },
  {
   "cell_type": "markdown",
   "metadata": {},
   "source": [
    "### Для решения задач данного блока вам понадобятся следующие методы: Math.abs."
   ]
  },
  {
   "cell_type": "markdown",
   "metadata": {},
   "source": [
    "Задача 6.1 Даны переменные a и b. Найти модуль разности a и b. Проверить работу скрипта для различных a и b."
   ]
  },
  {
   "cell_type": "code",
   "execution_count": 36,
   "metadata": {},
   "outputs": [
    {
     "name": "stdout",
     "output_type": "stream",
     "text": [
      "7\n",
      "1\n"
     ]
    }
   ],
   "source": [
    "res = (a, b) => console.log(Math.abs(a - b))\n",
    "\n",
    "res(10, 3)\n",
    "res(5, 6)"
   ]
  },
  {
   "cell_type": "markdown",
   "metadata": {},
   "source": [
    "Задача 6.2 Даны переменные a и b. Отнять от a переменную b и результат присвоить переменной c. Сделать так, чтобы в любом случае в переменную c записалось положительное значение. Проверить работу скрипта при a и b, равных соответственно 3 и 5, 6 и 1."
   ]
  },
  {
   "cell_type": "code",
   "execution_count": 37,
   "metadata": {},
   "outputs": [
    {
     "name": "stdout",
     "output_type": "stream",
     "text": [
      "2\n",
      "5\n"
     ]
    }
   ],
   "source": [
    "res = (a, b) => Math.abs(a - b)\n",
    "\n",
    "c = res(3, 5)\n",
    "console.log(c)\n",
    "\n",
    "c = res(6, 1)\n",
    "console.log(c)"
   ]
  },
  {
   "cell_type": "markdown",
   "metadata": {},
   "source": [
    "## Задание 7"
   ]
  },
  {
   "cell_type": "markdown",
   "metadata": {},
   "source": [
    "Задача 7.1 Дан массив arr. Найти среднее арифметическое его элементов. Проверить задачу на массиве с элементами 12, 15, 20, 25, 59, 79."
   ]
  },
  {
   "cell_type": "code",
   "execution_count": 38,
   "metadata": {},
   "outputs": [
    {
     "name": "stdout",
     "output_type": "stream",
     "text": [
      "42\n"
     ]
    }
   ],
   "source": [
    "arr = [12, 15, 20, 25, 59, 79]\n",
    "console.log((arr.reduce((a, b) => a + b, 0)) / [1,2,3,4,5].length)"
   ]
  },
  {
   "cell_type": "markdown",
   "metadata": {},
   "source": [
    "Задача 7.2 Написать скрипт, который будет находить факториал числа. Факториал (обозначается !) - это произведение (умножение) всех целых чисел, меньше данного, и его самого. Например, 4! = 1*2*3*4."
   ]
  },
  {
   "cell_type": "code",
   "execution_count": 40,
   "metadata": {},
   "outputs": [
    {
     "name": "stdout",
     "output_type": "stream",
     "text": [
      "24\n"
     ]
    }
   ],
   "source": [
    "fc = n => n === 0 || n === 1 ? 1 : n * fc(n - 1)\n",
    "\n",
    "console.log(fc(4))"
   ]
  },
  {
   "cell_type": "markdown",
   "metadata": {},
   "source": [
    "# «Строковые функции»\n",
    "# Задания"
   ]
  },
  {
   "cell_type": "markdown",
   "metadata": {},
   "source": [
    "## Задание 8: «Работа с регистром символов»"
   ]
  },
  {
   "cell_type": "markdown",
   "metadata": {},
   "source": [
    "### Для решения задач данного блока вам понадобятся следующие методы: toUpperCase, toLowerCase."
   ]
  },
  {
   "cell_type": "markdown",
   "metadata": {},
   "source": [
    "Задача 8.1 Дана строка 'js'. Сделать из нее строку 'JS'."
   ]
  },
  {
   "cell_type": "code",
   "execution_count": 42,
   "metadata": {},
   "outputs": [
    {
     "name": "stdout",
     "output_type": "stream",
     "text": [
      "JS\n"
     ]
    }
   ],
   "source": [
    "str = 'js'\n",
    "console.log(str.toUpperCase())"
   ]
  },
  {
   "cell_type": "markdown",
   "metadata": {},
   "source": [
    "Задача 8.2 Дана строка 'JS'. Сделать из нее строку 'js'."
   ]
  },
  {
   "cell_type": "code",
   "execution_count": 43,
   "metadata": {},
   "outputs": [
    {
     "name": "stdout",
     "output_type": "stream",
     "text": [
      "js\n"
     ]
    }
   ],
   "source": [
    "str = 'js'\n",
    "console.log(str.toLowerCase())"
   ]
  },
  {
   "cell_type": "markdown",
   "metadata": {},
   "source": [
    "## Задание 9: «Работа с length, substr, substring, slice. Работа с indexOf»"
   ]
  },
  {
   "cell_type": "markdown",
   "metadata": {},
   "source": [
    "Задача 9.1 Дана строка 'я учу javascript!'. Найти количество символов в этой строке."
   ]
  },
  {
   "cell_type": "code",
   "execution_count": 44,
   "metadata": {},
   "outputs": [
    {
     "name": "stdout",
     "output_type": "stream",
     "text": [
      "17\n"
     ]
    }
   ],
   "source": [
    "str = 'я учу javascript!'\n",
    "console.log(str.length)"
   ]
  },
  {
   "cell_type": "markdown",
   "metadata": {},
   "source": [
    "Задача 9.2 Дана строка 'я учу javascript!'. Вырезать из нее слово 'учу' и слово 'javascript' тремя разными способами (через substr, substring, slice)."
   ]
  },
  {
   "cell_type": "code",
   "execution_count": 66,
   "metadata": {},
   "outputs": [
    {
     "name": "stdout",
     "output_type": "stream",
     "text": [
      "учу \n",
      "javascript\n",
      "учу\n"
     ]
    }
   ],
   "source": [
    "str1 = 'я учу javascript!'\n",
    "str2 = 'я учу javascript!'\n",
    "str3 = 'я учу javascript!'\n",
    "\n",
    "str1 = str1.substr(2, 4)\n",
    "str2 = str2.substring(6, 16)\n",
    "str3 = str3.slice(2, 5)\n",
    "\n",
    "console.log(str1)\n",
    "console.log(str2)\n",
    "console.log(str3)"
   ]
  },
  {
   "cell_type": "markdown",
   "metadata": {},
   "source": [
    "Задача 9.3 Дана строка 'я учу javascript!'. Найти позицию подстроки 'учу'."
   ]
  },
  {
   "cell_type": "code",
   "execution_count": 67,
   "metadata": {},
   "outputs": [
    {
     "name": "stdout",
     "output_type": "stream",
     "text": [
      "2\n"
     ]
    }
   ],
   "source": [
    "str = 'я учу javascript!'\n",
    "console.log(str.indexOf('учу'))"
   ]
  },
  {
   "cell_type": "markdown",
   "metadata": {},
   "source": [
    "Задача 9.4 Дана переменная str, в которой хранится какой-либо текст. Реализовать обрезание длинного текста по следующему принципу: если количество символов этого текста больше заданного в переменной n, то в переменную result записать первые n символов строки str и добавить в конец троеточие '...'. В противном случае в переменную result записать содержимое переменной str."
   ]
  },
  {
   "cell_type": "code",
   "execution_count": 74,
   "metadata": {},
   "outputs": [
    {
     "name": "stdout",
     "output_type": "stream",
     "text": [
      "The quick b...\n",
      "The quick brown fox jumps over the lazy dog\n"
     ]
    }
   ],
   "source": [
    "sl = (text, n) => n < text.length ? result = text.substr(0, n) + \"...\" : result = text\n",
    "\n",
    "sl(\"The quick brown fox jumps over the lazy dog\", 11)\n",
    "console.log(result)\n",
    "\n",
    "sl(\"The quick brown fox jumps over the lazy dog\", 50)\n",
    "console.log(result)"
   ]
  },
  {
   "cell_type": "markdown",
   "metadata": {},
   "source": [
    "## Задание 10: «Работа с replace»"
   ]
  },
  {
   "cell_type": "markdown",
   "metadata": {},
   "source": [
    "Задача 10.1 Дана строка 'Я-учу-javascript!'. Заменить все дефисы на '!' с помощью глобального поиска и замены."
   ]
  },
  {
   "cell_type": "code",
   "execution_count": 78,
   "metadata": {},
   "outputs": [
    {
     "name": "stdout",
     "output_type": "stream",
     "text": [
      "Я!учу!javascript!\n"
     ]
    }
   ],
   "source": [
    "console.log('Я-учу-javascript!'.replace(/-/g, '!'))"
   ]
  },
  {
   "cell_type": "markdown",
   "metadata": {},
   "source": [
    "## Задание 11: «Работа с split»"
   ]
  },
  {
   "cell_type": "markdown",
   "metadata": {},
   "source": [
    "Задача 11.1 Дана строка 'я учу javascript!'. С помощью метода split записать каждое слово этой строки в отдельный элемент массива."
   ]
  },
  {
   "cell_type": "code",
   "execution_count": 81,
   "metadata": {},
   "outputs": [
    {
     "name": "stdout",
     "output_type": "stream",
     "text": [
      "[ 'я', 'учу', 'javascript!' ]\n"
     ]
    }
   ],
   "source": [
    "arr = 'я учу javascript!'.split(' ')\n",
    "console.log(arr)"
   ]
  },
  {
   "cell_type": "markdown",
   "metadata": {},
   "source": [
    "Задача 11.2 Дана строка 'я учу javascript!'. С помощью метода split записать каждый символ этой строки в отдельный элемент массива."
   ]
  },
  {
   "cell_type": "code",
   "execution_count": 82,
   "metadata": {},
   "outputs": [
    {
     "name": "stdout",
     "output_type": "stream",
     "text": [
      "[\n",
      "  'я', ' ', 'у', 'ч', 'у',\n",
      "  ' ', 'j', 'a', 'v', 'a',\n",
      "  's', 'c', 'r', 'i', 'p',\n",
      "  't', '!'\n",
      "]\n"
     ]
    }
   ],
   "source": [
    "arr = 'я учу javascript!'.split('')\n",
    "console.log(arr)"
   ]
  },
  {
   "cell_type": "markdown",
   "metadata": {},
   "source": [
    "Задача 11.3 В переменной date лежит дата в формате '2020-11-18'. Преобразовать эту дату в формат '18.11.2020'."
   ]
  },
  {
   "cell_type": "code",
   "execution_count": 85,
   "metadata": {},
   "outputs": [
    {
     "name": "stdout",
     "output_type": "stream",
     "text": [
      "18.11.2020\n"
     ]
    }
   ],
   "source": [
    "date = '2020-11-18'\n",
    "console.log(`${date.slice(8, 10)}.${date.slice(5, 7)}.${date.slice(0, 4)}`)"
   ]
  },
  {
   "cell_type": "markdown",
   "metadata": {},
   "source": [
    "## Задание 12: «Работа с join»"
   ]
  },
  {
   "cell_type": "markdown",
   "metadata": {},
   "source": [
    "Задача 12.1 Дан массив ['я', 'учу', 'javascript', '!']. С помощью метода join преобразовать массив в строку 'я+учу+javascript+!'."
   ]
  },
  {
   "cell_type": "code",
   "execution_count": 86,
   "metadata": {},
   "outputs": [
    {
     "name": "stdout",
     "output_type": "stream",
     "text": [
      "я+учу+javascript+!\n"
     ]
    }
   ],
   "source": [
    "arr = ['я', 'учу', 'javascript', '!']\n",
    "console.log(arr.join('+'))"
   ]
  },
  {
   "cell_type": "markdown",
   "metadata": {},
   "source": [
    "# «Функции для массивов»\n",
    "# Задания"
   ]
  },
  {
   "cell_type": "markdown",
   "metadata": {},
   "source": [
    "## Задание 13: «Работа с concat»"
   ]
  },
  {
   "cell_type": "markdown",
   "metadata": {},
   "source": [
    "Даны два массива: [1, 2, 3] и [4, 5, 6]. Объединить их вместе."
   ]
  },
  {
   "cell_type": "code",
   "execution_count": 87,
   "metadata": {},
   "outputs": [
    {
     "name": "stdout",
     "output_type": "stream",
     "text": [
      "[ 1, 2, 3, 4, 5, 6 ]\n"
     ]
    }
   ],
   "source": [
    "a = [1, 2, 3]\n",
    "b = [4, 5, 6]\n",
    "console.log(a.concat(b))"
   ]
  },
  {
   "cell_type": "markdown",
   "metadata": {},
   "source": [
    "## Задание 14: «Работа с reverse»"
   ]
  },
  {
   "cell_type": "markdown",
   "metadata": {},
   "source": [
    "Дан массив [1, 2, 3]. Сделать из него массив [3, 2, 1]."
   ]
  },
  {
   "cell_type": "code",
   "execution_count": 88,
   "metadata": {},
   "outputs": [
    {
     "name": "stdout",
     "output_type": "stream",
     "text": [
      "[ 3, 2, 1 ]\n"
     ]
    }
   ],
   "source": [
    "arr = [1, 2, 3]\n",
    "console.log(arr.reverse())"
   ]
  },
  {
   "cell_type": "markdown",
   "metadata": {},
   "source": [
    "## Задание 15: «Работа с push, unshift»"
   ]
  },
  {
   "cell_type": "markdown",
   "metadata": {},
   "source": [
    "Задача 15.1 Дан массив [1, 2, 3]. Добавить ему в конец элементы 4, 5, 6."
   ]
  },
  {
   "cell_type": "code",
   "execution_count": 89,
   "metadata": {},
   "outputs": [
    {
     "name": "stdout",
     "output_type": "stream",
     "text": [
      "[ 1, 2, 3, 4, 5, 6 ]\n"
     ]
    }
   ],
   "source": [
    "arr = [1, 2, 3]\n",
    "arr.push(4, 5, 6)\n",
    "console.log(arr)"
   ]
  },
  {
   "cell_type": "markdown",
   "metadata": {},
   "source": [
    "Задача 15.2 Дан массив [1, 2, 3]. Добавить ему в начало элементы 4, 5, 6."
   ]
  },
  {
   "cell_type": "code",
   "execution_count": 91,
   "metadata": {},
   "outputs": [
    {
     "name": "stdout",
     "output_type": "stream",
     "text": [
      "[ 4, 5, 6, 1, 2, 3 ]\n"
     ]
    }
   ],
   "source": [
    "arr = [1, 2, 3]\n",
    "arr.unshift(4, 5, 6)\n",
    "console.log(arr)"
   ]
  },
  {
   "cell_type": "markdown",
   "metadata": {},
   "source": [
    "## Задание 16: «Работа с shift, pop»"
   ]
  },
  {
   "cell_type": "markdown",
   "metadata": {},
   "source": [
    "Задача 16.1 Дан массив ['js', 'css', 'jq']. Вывести на экран первый элемент."
   ]
  },
  {
   "cell_type": "code",
   "execution_count": 93,
   "metadata": {},
   "outputs": [
    {
     "name": "stdout",
     "output_type": "stream",
     "text": [
      "js\n"
     ]
    }
   ],
   "source": [
    "arr = ['js', 'css', 'jq']\n",
    "console.log(arr.shift())"
   ]
  },
  {
   "cell_type": "markdown",
   "metadata": {},
   "source": [
    "Задача 16.2 Дан массив ['js', 'css', 'jq']. Вывести на экран последний элемент."
   ]
  },
  {
   "cell_type": "code",
   "execution_count": 94,
   "metadata": {},
   "outputs": [
    {
     "name": "stdout",
     "output_type": "stream",
     "text": [
      "jq\n"
     ]
    }
   ],
   "source": [
    "arr = ['js', 'css', 'jq']\n",
    "console.log(arr.pop())"
   ]
  },
  {
   "cell_type": "markdown",
   "metadata": {},
   "source": [
    "## Задание 17: «Работа со slice»"
   ]
  },
  {
   "cell_type": "markdown",
   "metadata": {},
   "source": [
    "Задача 17.1 Дан массив [1, 2, 3, 4, 5]. С помощью метода slice записать в новый элементы [1, 2, 3]."
   ]
  },
  {
   "cell_type": "code",
   "execution_count": 96,
   "metadata": {},
   "outputs": [
    {
     "name": "stdout",
     "output_type": "stream",
     "text": [
      "[ 1, 2, 3 ]\n"
     ]
    }
   ],
   "source": [
    "arr = [1, 2, 3, 4, 5]\n",
    "console.log(arr.slice(0, 3))"
   ]
  },
  {
   "cell_type": "markdown",
   "metadata": {},
   "source": [
    "Задача 17.2 Дан массив [1, 2, 3, 4, 5]. С помощью метода slice записать в новый элементы [4, 5]."
   ]
  },
  {
   "cell_type": "code",
   "execution_count": 102,
   "metadata": {},
   "outputs": [
    {
     "name": "stdout",
     "output_type": "stream",
     "text": [
      "[ 4, 5 ]\n"
     ]
    }
   ],
   "source": [
    "arr = [1, 2, 3, 4, 5]\n",
    "console.log(arr.slice(3, 5))"
   ]
  },
  {
   "cell_type": "markdown",
   "metadata": {},
   "source": [
    "## Задание 18: «Работа со splice»"
   ]
  },
  {
   "cell_type": "markdown",
   "metadata": {},
   "source": [
    "Задача 18.1 Дан массив [1, 2, 3, 4, 5]. С помощью метода splice преобразовать массив в [1, 4, 5]."
   ]
  },
  {
   "cell_type": "code",
   "execution_count": 104,
   "metadata": {},
   "outputs": [
    {
     "name": "stdout",
     "output_type": "stream",
     "text": [
      "[ 1, 4, 5 ]\n"
     ]
    }
   ],
   "source": [
    "arr = [1, 2, 3, 4, 5]\n",
    "arr.splice(1, 2)\n",
    "console.log(arr)"
   ]
  },
  {
   "cell_type": "markdown",
   "metadata": {},
   "source": [
    "Задача 18.2 Дан массив [1, 2, 3, 4, 5]. С помощью метода splice записать в новый массив элементы [2, 3, 4]."
   ]
  },
  {
   "cell_type": "code",
   "execution_count": 105,
   "metadata": {},
   "outputs": [
    {
     "name": "stdout",
     "output_type": "stream",
     "text": [
      "[ 2, 3, 4 ]\n"
     ]
    }
   ],
   "source": [
    "arr = [1, 2, 3, 4, 5]\n",
    "narr = arr.splice(1, 3)\n",
    "console.log(narr)"
   ]
  },
  {
   "cell_type": "markdown",
   "metadata": {},
   "source": [
    "Задача 18.3 Дан массив [1, 2, 3, 4, 5]. С помощью метода splice сделать из него массив [1, 2, 3, 'a', 'b', 'c', 4, 5]."
   ]
  },
  {
   "cell_type": "code",
   "execution_count": 107,
   "metadata": {},
   "outputs": [
    {
     "name": "stdout",
     "output_type": "stream",
     "text": [
      "[\n",
      "  1,   2,   3, 'a',\n",
      "  'b', 'c', 4, 5\n",
      "]\n"
     ]
    }
   ],
   "source": [
    "arr = [1, 2, 3, 4, 5]\n",
    "arr.splice(3, 0, 'a', 'b', 'c')\n",
    "console.log(arr)"
   ]
  },
  {
   "cell_type": "markdown",
   "metadata": {},
   "source": [
    "Задача 18.4 Дан массив [1, 2, 3, 4, 5]. С помощью метода splice сделать из него массив [1, 'a', 'b', 2, 3, 4, 'c', 5, 'e']."
   ]
  },
  {
   "cell_type": "code",
   "execution_count": 115,
   "metadata": {},
   "outputs": [
    {
     "name": "stdout",
     "output_type": "stream",
     "text": [
      "[\n",
      "  1, 'a', 'b', 2,   3,\n",
      "  4, 'c', 5,   'e'\n",
      "]\n"
     ]
    }
   ],
   "source": [
    "arr = [1, 2, 3, 4, 5]\n",
    "arr.splice(1, 0, 'a', 'b')\n",
    "arr.splice(6, 0, 'c')\n",
    "arr.splice(8, 0, 'e')\n",
    "console.log(arr)"
   ]
  },
  {
   "cell_type": "markdown",
   "metadata": {},
   "source": [
    "## Задание 19: «Работа с sort»"
   ]
  },
  {
   "cell_type": "markdown",
   "metadata": {},
   "source": [
    "Дан массив [3, 4, 1, 2, 7]. Отсортировать его."
   ]
  },
  {
   "cell_type": "code",
   "execution_count": 116,
   "metadata": {},
   "outputs": [
    {
     "name": "stdout",
     "output_type": "stream",
     "text": [
      "[ 1, 2, 3, 4, 7 ]\n"
     ]
    }
   ],
   "source": [
    "console.log([3, 4, 1, 2, 7].sort())"
   ]
  },
  {
   "cell_type": "markdown",
   "metadata": {},
   "source": [
    "## Задание 20: «Работа с Object.keys»"
   ]
  },
  {
   "cell_type": "markdown",
   "metadata": {},
   "source": [
    "Дан объект {js:'test', jq: 'hello', css: 'world'}. Получить массив его ключей."
   ]
  },
  {
   "cell_type": "code",
   "execution_count": 118,
   "metadata": {},
   "outputs": [
    {
     "name": "stdout",
     "output_type": "stream",
     "text": [
      "[ 'js', 'jq', 'css' ]\n"
     ]
    }
   ],
   "source": [
    "console.log(Object.keys({js:'test', jq: 'hello', css: 'world'}))"
   ]
  }
 ],
 "metadata": {
  "kernelspec": {
   "display_name": "Javascript (Node.js)",
   "language": "javascript",
   "name": "javascript"
  },
  "language_info": {
   "file_extension": ".js",
   "mimetype": "application/javascript",
   "name": "javascript",
   "version": "12.18.3"
  }
 },
 "nbformat": 4,
 "nbformat_minor": 4
}
