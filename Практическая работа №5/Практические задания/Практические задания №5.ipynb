{
 "cells": [
  {
   "cell_type": "markdown",
   "metadata": {},
   "source": [
    "# Практическая работа №5 «JavaScript. Работа с переменными, строками, массивами, циклами и условиями»"
   ]
  },
  {
   "cell_type": "markdown",
   "metadata": {},
   "source": [
    "## Задание 1: «Работа с переменными»"
   ]
  },
  {
   "cell_type": "markdown",
   "metadata": {},
   "source": [
    "Задача 1.1 Создать переменную num и присвоить ей значение 3. Вывести значение этой переменной на экран с помощью метода alert."
   ]
  },
  {
   "cell_type": "code",
   "execution_count": null,
   "metadata": {},
   "outputs": [],
   "source": []
  },
  {
   "cell_type": "markdown",
   "metadata": {},
   "source": [
    "Задача 1.2 Создать переменные a=10 и b=2. Вывести на экран их сумму, разность, произведение и частное (результат деления)."
   ]
  },
  {
   "cell_type": "code",
   "execution_count": 5,
   "metadata": {},
   "outputs": [
    {
     "name": "stdout",
     "output_type": "stream",
     "text": [
      "12\n",
      "8\n",
      "20\n",
      "5\n"
     ]
    }
   ],
   "source": [
    "a = 10\n",
    "b = 2\n",
    "\n",
    "console.log(a + b)\n",
    "console.log(a - b)\n",
    "console.log(a * b)\n",
    "console.log(a / b)"
   ]
  },
  {
   "cell_type": "markdown",
   "metadata": {},
   "source": [
    "Задача 1.3 Создать переменные c=15 и d=2. Просуммировать их, а результат присвоить переменной result. Вывести на экран значение переменной result."
   ]
  },
  {
   "cell_type": "code",
   "execution_count": 2,
   "metadata": {},
   "outputs": [
    {
     "name": "stdout",
     "output_type": "stream",
     "text": [
      "17\n"
     ]
    }
   ],
   "source": [
    "c = 15;\n",
    "d = 2;\n",
    "\n",
    "result = c + d;\n",
    "console.log(result);"
   ]
  },
  {
   "cell_type": "markdown",
   "metadata": {},
   "source": [
    "Задача 1.4 Создать переменные a=10, b=2 и c=5. Вывести на экран их сумму."
   ]
  },
  {
   "cell_type": "code",
   "execution_count": 6,
   "metadata": {},
   "outputs": [
    {
     "name": "stdout",
     "output_type": "stream",
     "text": [
      "17\n"
     ]
    }
   ],
   "source": [
    "a = 10\n",
    "b = 2\n",
    "c = 5\n",
    "\n",
    "console.log(a + b + c)"
   ]
  },
  {
   "cell_type": "markdown",
   "metadata": {},
   "source": [
    "Задача 1.5 Создать переменные a=17 и b=10. Отнять от a переменную b и результат присвоить переменной c. Затем создать переменную d, присвоить ей значение 7. Сложить переменные c и d, а результат записать в переменную result. Вывести на экран значение переменной result."
   ]
  },
  {
   "cell_type": "code",
   "execution_count": 7,
   "metadata": {},
   "outputs": [
    {
     "name": "stdout",
     "output_type": "stream",
     "text": [
      "14\n"
     ]
    }
   ],
   "source": [
    "a = 17\n",
    "b = 10\n",
    "\n",
    "c = a - b\n",
    "d = 7\n",
    "result = c + d\n",
    "\n",
    "console.log(result)"
   ]
  },
  {
   "cell_type": "markdown",
   "metadata": {},
   "source": [
    "## Задание 2: «Работа со строками»"
   ]
  },
  {
   "cell_type": "markdown",
   "metadata": {},
   "source": [
    "Задача 2.1 Создать переменную str и присвоить ей значение 'Привет, Мир!'. Вывести значение этой переменной на экран."
   ]
  },
  {
   "cell_type": "code",
   "execution_count": 8,
   "metadata": {},
   "outputs": [
    {
     "name": "stdout",
     "output_type": "stream",
     "text": [
      "Привет, Мир\n"
     ]
    }
   ],
   "source": [
    "str = 'Привет, Мир'\n",
    "\n",
    "console.log(str)"
   ]
  },
  {
   "cell_type": "markdown",
   "metadata": {},
   "source": [
    "Задача 2.2 Создать переменные str1='Привет, ' и str2='Мир!'. С помощью этих переменных и операции сложения строк вывести на экран фразу 'Привет, Мир!'."
   ]
  },
  {
   "cell_type": "code",
   "execution_count": 9,
   "metadata": {},
   "outputs": [
    {
     "name": "stdout",
     "output_type": "stream",
     "text": [
      "Привет, Мир!\n"
     ]
    }
   ],
   "source": [
    "str1 = 'Привет, '\n",
    "str2 = 'Мир!'\n",
    "\n",
    "console.log(str1 + str2)"
   ]
  },
  {
   "cell_type": "markdown",
   "metadata": {},
   "source": [
    "Задача 2.3 Создать переменную name и присвоить ей ваше имя. Вывести на экран фразу 'Привет, %Имя%!'."
   ]
  },
  {
   "cell_type": "code",
   "execution_count": 11,
   "metadata": {},
   "outputs": [
    {
     "name": "stdout",
     "output_type": "stream",
     "text": [
      "Привет, Иван!\n"
     ]
    }
   ],
   "source": [
    "name = 'Иван'\n",
    "\n",
    "console.log(`Привет, ${name}!`)"
   ]
  },
  {
   "cell_type": "markdown",
   "metadata": {},
   "source": [
    "Задача 2.4 Создать переменную age и присвоить ей ваш возраст. Выведите на экран 'Мне %Возраст% лет!'."
   ]
  },
  {
   "cell_type": "code",
   "execution_count": 12,
   "metadata": {},
   "outputs": [
    {
     "name": "stdout",
     "output_type": "stream",
     "text": [
      "Мне 19 лет!\n"
     ]
    }
   ],
   "source": [
    "age = '19'\n",
    "\n",
    "console.log(`Мне ${age} лет!`)"
   ]
  },
  {
   "cell_type": "markdown",
   "metadata": {},
   "source": [
    "## Задание 3: «Функция prompt»"
   ]
  },
  {
   "cell_type": "markdown",
   "metadata": {},
   "source": [
    "Задача 3.1 Спросить имя пользователя с помощью методы prompt. Вывести с помощью alert сообщение 'Ваше имя %имя%'."
   ]
  },
  {
   "cell_type": "code",
   "execution_count": null,
   "metadata": {},
   "outputs": [],
   "source": []
  },
  {
   "cell_type": "markdown",
   "metadata": {},
   "source": [
    "Задача 3.2 Спросить у пользователя число. Выведите с помощью alert квадрат этого числа."
   ]
  },
  {
   "cell_type": "code",
   "execution_count": null,
   "metadata": {},
   "outputs": [],
   "source": []
  },
  {
   "cell_type": "markdown",
   "metadata": {},
   "source": [
    "## Задание 4: «Обращение к символам строки»"
   ]
  },
  {
   "cell_type": "markdown",
   "metadata": {},
   "source": [
    "Задача 4.1 Создать переменную str и присвоить ей значение 'abcde'. Обращаясь к отдельным символам этой строки вывести на экран символ 'a', символ 'c', символ 'e'."
   ]
  },
  {
   "cell_type": "code",
   "execution_count": 14,
   "metadata": {},
   "outputs": [
    {
     "name": "stdout",
     "output_type": "stream",
     "text": [
      "a\n",
      "c\n",
      "e\n"
     ]
    }
   ],
   "source": [
    "str = 'abcde'\n",
    "console.log(str[0])\n",
    "console.log(str[2])\n",
    "console.log(str[str.length - 1])"
   ]
  },
  {
   "cell_type": "markdown",
   "metadata": {},
   "source": [
    "Задача 4.2 Создать переменную num и присвоить ей значение '12345'. Найти произведение (умножение) цифр этого числа."
   ]
  },
  {
   "cell_type": "code",
   "execution_count": 18,
   "metadata": {},
   "outputs": [
    {
     "name": "stdout",
     "output_type": "stream",
     "text": [
      "120\n"
     ]
    }
   ],
   "source": [
    "num = '12345'\n",
    "mul = 1\n",
    "for(var i of num) {\n",
    "    mul *= i\n",
    "}\n",
    "\n",
    "console.log(mul)"
   ]
  },
  {
   "cell_type": "markdown",
   "metadata": {},
   "source": [
    "## Задание 5: «Работа со временем»"
   ]
  },
  {
   "cell_type": "markdown",
   "metadata": {},
   "source": [
    "Задача 5.1 Написать скрипт, который считает количество секунд в часе, в сутках, в месяце."
   ]
  },
  {
   "cell_type": "code",
   "execution_count": 2,
   "metadata": {},
   "outputs": [
    {
     "name": "stdout",
     "output_type": "stream",
     "text": [
      "2944800\n"
     ]
    }
   ],
   "source": [
    "var sCounter = function(h, d, m) {\n",
    "    return (h * 60 * 60) + (d * 24 * 60 * 60) + (m * 30 * 24 * 60 * 60)\n",
    "}\n",
    "\n",
    "console.log(sCounter(2, 4, 1))"
   ]
  },
  {
   "cell_type": "markdown",
   "metadata": {},
   "source": [
    "Задача 5.2 Создать три переменные - час, минута, секунда. С их помощью вывести текущее время в формате 'час:минута:секунда'."
   ]
  },
  {
   "cell_type": "code",
   "execution_count": 1,
   "metadata": {},
   "outputs": [
    {
     "name": "stdout",
     "output_type": "stream",
     "text": [
      "22:44:55\n"
     ]
    }
   ],
   "source": [
    "var date = new Date()\n",
    "hour = date.getHours()\n",
    "minute = date.getMinutes()\n",
    "seconds = date.getSeconds()\n",
    "\n",
    "console.log(`${hour}:${minute}:${seconds}`)"
   ]
  },
  {
   "cell_type": "markdown",
   "metadata": {},
   "source": [
    "## Задание 6: «Работа с присваиванием и декрементами»"
   ]
  },
  {
   "cell_type": "markdown",
   "metadata": {},
   "source": [
    "Задача 6.1 Переделать нижепредставленный код так, чтобы в нем использовались операции +=, -=, *=, /=. Количество строк кода при этом не должно измениться."
   ]
  },
  {
   "cell_type": "markdown",
   "metadata": {},
   "source": [
    "var num = 47;<br>num = num + 7;<br>num = num - 18;<br>num = num * 10;<br>num = num / 15;<br>alert(num);"
   ]
  },
  {
   "cell_type": "code",
   "execution_count": 19,
   "metadata": {},
   "outputs": [
    {
     "name": "stdout",
     "output_type": "stream",
     "text": [
      "24\n"
     ]
    }
   ],
   "source": [
    "var num = 47;\n",
    "num += 7;\n",
    "num -= 18;\n",
    "num *= 10;\n",
    "num /= 15;\n",
    "\n",
    "console.log(num)"
   ]
  },
  {
   "cell_type": "markdown",
   "metadata": {},
   "source": [
    "Задача 6.2 Переделать нижепредставленный код так, чтобы в нем использовались операции ++ и --. Количество строк кода при этом не должно измениться."
   ]
  },
  {
   "cell_type": "markdown",
   "metadata": {},
   "source": [
    "var num = 10;<br>num = num + 1;<br>num = num + 1;<br>num = num - 1;<br>alert(num);"
   ]
  },
  {
   "cell_type": "code",
   "execution_count": 20,
   "metadata": {},
   "outputs": [
    {
     "name": "stdout",
     "output_type": "stream",
     "text": [
      "11\n"
     ]
    }
   ],
   "source": [
    "var num = 10;\n",
    "num++;\n",
    "num++;\n",
    "num--;\n",
    "console.log(num)"
   ]
  },
  {
   "cell_type": "markdown",
   "metadata": {},
   "source": [
    "## Задание 7: «Работа с массивами»"
   ]
  },
  {
   "cell_type": "markdown",
   "metadata": {},
   "source": [
    "Задача 7.1 Создать массив arr = ['a', 'b', 'c']. Вывести его на экран с помощью функции alert."
   ]
  },
  {
   "cell_type": "code",
   "execution_count": null,
   "metadata": {},
   "outputs": [],
   "source": []
  },
  {
   "cell_type": "markdown",
   "metadata": {},
   "source": [
    "Задача 7.2 С помощью массива arr из предыдущего номера вывести на экран содержимое первого, второго и третьего элементов."
   ]
  },
  {
   "cell_type": "code",
   "execution_count": 21,
   "metadata": {},
   "outputs": [
    {
     "name": "stdout",
     "output_type": "stream",
     "text": [
      "a\n",
      "b\n",
      "c\n"
     ]
    }
   ],
   "source": [
    "arr = ['a', 'b', 'c']\n",
    "console.log(arr[0])\n",
    "console.log(arr[1])\n",
    "console.log(arr[2])"
   ]
  },
  {
   "cell_type": "markdown",
   "metadata": {},
   "source": [
    "Задача 7.3 Создать массив arr = ['a', 'b', 'c', 'd'] и с его помощью вывести на экран строку 'a+b, c+d'."
   ]
  },
  {
   "cell_type": "code",
   "execution_count": 22,
   "metadata": {},
   "outputs": [
    {
     "name": "stdout",
     "output_type": "stream",
     "text": [
      "a+b, c+d\n"
     ]
    }
   ],
   "source": [
    "arr = ['a', 'b', 'c', 'd']\n",
    "\n",
    "console.log(`${arr[0]}+${arr[1]}, ${arr[2]}+${arr[3]}`)"
   ]
  },
  {
   "cell_type": "markdown",
   "metadata": {},
   "source": [
    " Задача 7.4 Создать массив arr с элементами 2, 5, 3, 9. Умножить первый элемент массива на второй, а третий элемент на четвертый. Результаты сложить, присвоить переменной result. Вывести на экран значение этой переменной."
   ]
  },
  {
   "cell_type": "code",
   "execution_count": 23,
   "metadata": {},
   "outputs": [
    {
     "name": "stdout",
     "output_type": "stream",
     "text": [
      "37\n"
     ]
    }
   ],
   "source": [
    "arr = [2, 5, 3, 9]\n",
    "result = (arr[0] * arr[1]) + (arr[2] * arr[3])\n",
    "console.log(result)"
   ]
  },
  {
   "cell_type": "markdown",
   "metadata": {},
   "source": [
    "## Задание 8: «Объекты (ассоциативные массивы)»"
   ]
  },
  {
   "cell_type": "markdown",
   "metadata": {},
   "source": [
    "Задача 8.1 Создать объект obj. Вывести на экран элемент с ключом 'c' двумя способами: через квадратные скобки и как свойство объекта:<br>var obj = {a: 1, b: 2, c: 3};"
   ]
  },
  {
   "cell_type": "code",
   "execution_count": 25,
   "metadata": {},
   "outputs": [
    {
     "name": "stdout",
     "output_type": "stream",
     "text": [
      "3\n",
      "3\n"
     ]
    }
   ],
   "source": [
    "var obj = {a: 1, b: 2, c: 3}\n",
    "console.log(obj['c'])\n",
    "console.log(obj.c)"
   ]
  },
  {
   "cell_type": "markdown",
   "metadata": {},
   "source": [
    "Задача 8.2 Создать массив заработных плат obj. Вывести на экран зарплату Пети и Коли.<br>var obj = {Коля: '1000', Вася: '500', Петя: '200'};"
   ]
  },
  {
   "cell_type": "code",
   "execution_count": 26,
   "metadata": {},
   "outputs": [
    {
     "name": "stdout",
     "output_type": "stream",
     "text": [
      "200\n",
      "1000\n"
     ]
    }
   ],
   "source": [
    "var obj = {Коля: '1000', Вася: '500', Петя: '200'};\n",
    "console.log(obj['Петя'])\n",
    "console.log(obj['Коля'])"
   ]
  },
  {
   "cell_type": "markdown",
   "metadata": {},
   "source": [
    "Задача 8.3 Создать объект с днями недели. Ключами в нем должны служить номера дней от начала недели (понедельник - первый и т.д.). Вывести на экран текущий день недели."
   ]
  },
  {
   "cell_type": "code",
   "execution_count": 3,
   "metadata": {},
   "outputs": [
    {
     "name": "stdout",
     "output_type": "stream",
     "text": [
      "Current day: Пятница\n"
     ]
    }
   ],
   "source": [
    "obj = {0: \"Воскресенье\",\n",
    "       1: \"Понедельник\",\n",
    "       2: \"Вторник\",\n",
    "       3: \"Среда\",\n",
    "       4: \"Четверг\",\n",
    "       5: \"Пятница\",\n",
    "       6: \"Суббота\"}\n",
    "date = new Date()\n",
    "console.log(`Current day: ${obj[date.getDay()]}`)"
   ]
  },
  {
   "cell_type": "markdown",
   "metadata": {},
   "source": [
    "Задача 8.4 Пусть теперь номер дня недели хранится в переменной day, например, там лежит число 3. Вывести день недели, соответствующий значению переменной day."
   ]
  },
  {
   "cell_type": "code",
   "execution_count": 4,
   "metadata": {},
   "outputs": [
    {
     "name": "stdout",
     "output_type": "stream",
     "text": [
      "Среда\n"
     ]
    }
   ],
   "source": [
    "obj = {0: \"Воскресенье\",\n",
    "       1: \"Понедельник\",\n",
    "       2: \"Вторник\",\n",
    "       3: \"Среда\",\n",
    "       4: \"Четверг\",\n",
    "       5: \"Пятница\",\n",
    "       6: \"Суббота\"}\n",
    "day = 3\n",
    "console.log(obj[day])"
   ]
  },
  {
   "cell_type": "markdown",
   "metadata": {},
   "source": [
    "## Задание 9: «Многомерные массивы»"
   ]
  },
  {
   "cell_type": "markdown",
   "metadata": {},
   "source": [
    "Задача 9.1 Дан массив [ [1, 2, 3], [4, 5, 6], [7,8,9] ]. Вывести на экран цифру 4 из этого массива."
   ]
  },
  {
   "cell_type": "code",
   "execution_count": 27,
   "metadata": {},
   "outputs": [
    {
     "name": "stdout",
     "output_type": "stream",
     "text": [
      "4\n"
     ]
    }
   ],
   "source": [
    "arr = [[1, 2, 3], [4, 5, 6], [7,8,9]]\n",
    "console.log(arr[1][0])"
   ]
  },
  {
   "cell_type": "markdown",
   "metadata": {},
   "source": [
    "Задача 9.2 Дан объект {js:['jQuery', 'Angular'], php: 'hello', css: 'world'}. Вывести с его помощью слово 'jQuery'."
   ]
  },
  {
   "cell_type": "code",
   "execution_count": 29,
   "metadata": {},
   "outputs": [
    {
     "name": "stdout",
     "output_type": "stream",
     "text": [
      "jQuery\n"
     ]
    }
   ],
   "source": [
    "obj = {js:['jQuery', 'Angular'], php: 'hello', css: 'world'}\n",
    "console.log(obj.js[0])"
   ]
  },
  {
   "cell_type": "markdown",
   "metadata": {},
   "source": [
    "Задача 9.3 Создать двухмерный массив. Первые два ключа - это 'ru' и 'en'. Пусть первый ключ содержит элемент, являющийся массивом названий дней недели по-русски, а второй - по-английски. Вывести с помощью этого массива понедельник по-русски и среду по-английски (пусть понедельник - это нулевой день)."
   ]
  },
  {
   "cell_type": "code",
   "execution_count": 5,
   "metadata": {},
   "outputs": [
    {
     "name": "stdout",
     "output_type": "stream",
     "text": [
      "Понедельник\n",
      "Wednesday\n"
     ]
    }
   ],
   "source": [
    "obj = {ru: ['Понедельник',\n",
    "            'Вторник',\n",
    "            'Среда',\n",
    "            'Четверг',\n",
    "            'Пятница',\n",
    "            'Суббота',\n",
    "            'Воскресенье'], \n",
    "       en: ['Monday',\n",
    "            'Tuesday',\n",
    "            'Wednesday',\n",
    "            'Thursday',\n",
    "            'Friday', \n",
    "            'Saturday',\n",
    "            'Sunday']}\n",
    "\n",
    "console.log(obj.ru[0])\n",
    "console.log(obj.en[2])"
   ]
  },
  {
   "cell_type": "markdown",
   "metadata": {},
   "source": [
    "Задача 9.4 Пусть теперь в переменной lang хранится язык (она принимает одно из значений или 'ru', или 'en' - либо то, либо то), а в переменной day - номер дня. Вывести словом день недели, соответствующий переменным lang и day. То есть: если, к примеру, lang = 'ru' и day = 3 - то вывести 'среда'."
   ]
  },
  {
   "cell_type": "code",
   "execution_count": 6,
   "metadata": {},
   "outputs": [
    {
     "name": "stdout",
     "output_type": "stream",
     "text": [
      "Среда\n"
     ]
    }
   ],
   "source": [
    "obj = {ru: ['Понедельник',\n",
    "            'Вторник',\n",
    "            'Среда',\n",
    "            'Четверг',\n",
    "            'Пятница',\n",
    "            'Суббота',\n",
    "            'Воскресенье'], \n",
    "       en: ['Monday',\n",
    "            'Tuesday',\n",
    "            'Wednesday',\n",
    "            'Thursday',\n",
    "            'Friday', \n",
    "            'Saturday',\n",
    "            'Sunday']}\n",
    "lang = 'ru'\n",
    "day = 3\n",
    "\n",
    "console.log(obj[lang][day - 1])"
   ]
  },
  {
   "cell_type": "markdown",
   "metadata": {},
   "source": [
    "## Задание 10: «Работа с if-else»"
   ]
  },
  {
   "cell_type": "markdown",
   "metadata": {},
   "source": [
    "Задача 10.1 Если переменная a равна нулю, то вывести 'Верно', иначе выведите 'Неверно'. Проверьте работу скрипта при a, равном 1, 0, -3."
   ]
  },
  {
   "cell_type": "code",
   "execution_count": 41,
   "metadata": {},
   "outputs": [
    {
     "name": "stdout",
     "output_type": "stream",
     "text": [
      "Неверно\n",
      "Верно\n",
      "Неверно\n"
     ]
    }
   ],
   "source": [
    "var check = a => {if(a === 0){console.log('Верно')} else {console.log('Неверно')}}\n",
    "\n",
    "check(1)\n",
    "check(0)\n",
    "check(-3)"
   ]
  },
  {
   "cell_type": "markdown",
   "metadata": {},
   "source": [
    "Задача 10.2 Если переменная a больше нуля, то вывести 'Верно', иначе вывести 'Неверно'. Проверьте работу скрипта при a, равном 1, 0, -3."
   ]
  },
  {
   "cell_type": "code",
   "execution_count": 42,
   "metadata": {},
   "outputs": [
    {
     "name": "stdout",
     "output_type": "stream",
     "text": [
      "Верно\n",
      "Неверно\n",
      "Неверно\n"
     ]
    }
   ],
   "source": [
    "var check = a => {if(a > 0){console.log('Верно')} else {console.log('Неверно')}}\n",
    "\n",
    "check(1)\n",
    "check(0)\n",
    "check(-3)"
   ]
  },
  {
   "cell_type": "markdown",
   "metadata": {},
   "source": [
    "Задача 10.3 Если переменная a меньше нуля, то вывести 'Верно', иначе вывести 'Неверно'. Проверьте работу скрипта при a, равном 1, 0, -3."
   ]
  },
  {
   "cell_type": "code",
   "execution_count": 43,
   "metadata": {},
   "outputs": [
    {
     "name": "stdout",
     "output_type": "stream",
     "text": [
      "Неверно\n",
      "Неверно\n",
      "Верно\n"
     ]
    }
   ],
   "source": [
    "var check = a => {if(a < 0){console.log('Верно')} else {console.log('Неверно')}}\n",
    "\n",
    "check(1)\n",
    "check(0)\n",
    "check(-3)"
   ]
  },
  {
   "cell_type": "markdown",
   "metadata": {},
   "source": [
    "Задача 10.4 Если переменная a больше или равна нулю, то вывести 'Верно', иначе вывести 'Неверно'. Проверьте работу скрипта при a, равном 1, 0, -3."
   ]
  },
  {
   "cell_type": "code",
   "execution_count": 45,
   "metadata": {},
   "outputs": [
    {
     "name": "stdout",
     "output_type": "stream",
     "text": [
      "Верно\n",
      "Верно\n",
      "Неверно\n"
     ]
    }
   ],
   "source": [
    "var check = a => {if(a >= 0){console.log('Верно')} else {console.log('Неверно')}}\n",
    "\n",
    "check(1)\n",
    "check(0)\n",
    "check(-3)"
   ]
  },
  {
   "cell_type": "markdown",
   "metadata": {},
   "source": [
    "Задача 10.5 Если переменная a меньше или равна нулю, то вывести 'Верно', иначе вывести 'Неверно'. Проверьте работу скрипта при a, равном 1, 0, -3."
   ]
  },
  {
   "cell_type": "code",
   "execution_count": 46,
   "metadata": {},
   "outputs": [
    {
     "name": "stdout",
     "output_type": "stream",
     "text": [
      "Неверно\n",
      "Верно\n",
      "Верно\n"
     ]
    }
   ],
   "source": [
    "var check = a => {if(a <= 0){console.log('Верно')} else {console.log('Неверно')}}\n",
    "\n",
    "check(1)\n",
    "check(0)\n",
    "check(-3)"
   ]
  },
  {
   "cell_type": "markdown",
   "metadata": {},
   "source": [
    "Задача 10.6 Если переменная a не равна нулю, то вывести 'Верно', иначе вывести 'Неверно'. Проверьте работу скрипта при a, равном 1, 0, -3."
   ]
  },
  {
   "cell_type": "code",
   "execution_count": 47,
   "metadata": {},
   "outputs": [
    {
     "name": "stdout",
     "output_type": "stream",
     "text": [
      "Верно\n",
      "Неверно\n",
      "Верно\n"
     ]
    }
   ],
   "source": [
    "var check = a => {if(a !== 0){console.log('Верно')} else {console.log('Неверно')}}\n",
    "\n",
    "check(1)\n",
    "check(0)\n",
    "check(-3)"
   ]
  },
  {
   "cell_type": "markdown",
   "metadata": {},
   "source": [
    "Задача 10.7 Если переменная a равна 'test', то вывести 'Верно', иначе вывести 'Неверно'. Проверьте работу скрипта при a, равном 'test', 'тест', 3."
   ]
  },
  {
   "cell_type": "code",
   "execution_count": 48,
   "metadata": {},
   "outputs": [
    {
     "name": "stdout",
     "output_type": "stream",
     "text": [
      "Верно\n",
      "Неверно\n",
      "Неверно\n"
     ]
    }
   ],
   "source": [
    "var check = a => {if(a === 'test'){console.log('Верно')} else {console.log('Неверно')}}\n",
    "\n",
    "check('test')\n",
    "check('тест')\n",
    "check(3)"
   ]
  },
  {
   "cell_type": "markdown",
   "metadata": {},
   "source": [
    "Задача 10.8 Если переменная a равна '1' и по значению и по типу, то вывести 'Верно', иначе вывести 'Неверно'. Проверьте работу скрипта при a, равном '1', 1, 3."
   ]
  },
  {
   "cell_type": "code",
   "execution_count": 49,
   "metadata": {},
   "outputs": [
    {
     "name": "stdout",
     "output_type": "stream",
     "text": [
      "Верно\n",
      "Неверно\n",
      "Неверно\n"
     ]
    }
   ],
   "source": [
    "var check = a => {if(a === '1'){console.log('Верно')} else {console.log('Неверно')}}\n",
    "\n",
    "check('1')\n",
    "check(1)\n",
    "check(3)"
   ]
  },
  {
   "cell_type": "markdown",
   "metadata": {},
   "source": [
    "## Задание 11: «Работа с логическими переменными»"
   ]
  },
  {
   "cell_type": "markdown",
   "metadata": {},
   "source": [
    "Задача 11.1 Если переменная test равна true, то вывести 'Верно', иначе вывести 'Неверно'. Проверьте работу скрипта при test, равном true, false. Написать два варианта скрипта - с короткой записью и с длинной."
   ]
  },
  {
   "cell_type": "code",
   "execution_count": 7,
   "metadata": {},
   "outputs": [
    {
     "name": "stdout",
     "output_type": "stream",
     "text": [
      "Верно\n",
      "Неверно\n",
      "Верно\n",
      "Неверно\n"
     ]
    }
   ],
   "source": [
    "var check = test => {if(test === true){console.log('Верно')} \n",
    "                     else {console.log('Неверно')}}\n",
    "check(true)\n",
    "check(false)\n",
    "\n",
    "var check = test => {test === true ? console.log('Верно') : console.log('Неверно')}\n",
    "check(true)\n",
    "check(false)"
   ]
  },
  {
   "cell_type": "markdown",
   "metadata": {},
   "source": [
    "Задача 11.2 Если переменная test не равна true, то вывести 'Верно', иначе вывести 'Неверно'. Проверить работу скрипта при test, равном true, false. Написать два варианта скрипта - с короткой записью и с длинной."
   ]
  },
  {
   "cell_type": "code",
   "execution_count": 53,
   "metadata": {},
   "outputs": [
    {
     "name": "stdout",
     "output_type": "stream",
     "text": [
      "Неверно\n",
      "Верно\n",
      "Неверно\n",
      "Верно\n"
     ]
    }
   ],
   "source": [
    "var check = test => {if(test !== true){console.log('Верно')} \n",
    "                     else {console.log('Неверно')}}\n",
    "check(true)\n",
    "check(false)\n",
    "\n",
    "var check = test => {test !== true ? console.log('Верно') : console.log('Неверно')}\n",
    "check(true)\n",
    "check(false)"
   ]
  },
  {
   "cell_type": "markdown",
   "metadata": {},
   "source": [
    "## Задание 12: «Работа с && (и) и || (или)»"
   ]
  },
  {
   "cell_type": "markdown",
   "metadata": {},
   "source": [
    "Задача 12.1 Если переменная a больше нуля и меньше 5-ти, то вывести 'Верно', иначе вывести 'Неверно'. Проверить работу скрипта при a, равном 5, 0, -3, 2."
   ]
  },
  {
   "cell_type": "code",
   "execution_count": 54,
   "metadata": {},
   "outputs": [
    {
     "name": "stdout",
     "output_type": "stream",
     "text": [
      "Неверно\n",
      "Неверно\n",
      "Неверно\n",
      "Верно\n"
     ]
    }
   ],
   "source": [
    "var check = a => {a > 0 && a < 5 ? console.log('Верно') : console.log('Неверно')}\n",
    "check(5)\n",
    "check(0)\n",
    "check(-3)\n",
    "check(2)"
   ]
  },
  {
   "cell_type": "markdown",
   "metadata": {},
   "source": [
    "Задача 12.2 Если переменная a равна нулю или равна двум, то прибавить к ней 7, иначе поделить ее на 10. Вывести новое значение переменной на экран. Проверить работу скрипта при a, равном 5, 0, -3, 2."
   ]
  },
  {
   "cell_type": "code",
   "execution_count": 55,
   "metadata": {},
   "outputs": [
    {
     "name": "stdout",
     "output_type": "stream",
     "text": [
      "0.5\n",
      "7\n",
      "-0.3\n",
      "9\n"
     ]
    }
   ],
   "source": [
    "var check = a => {a === 0 || a === 2 ? a += 7 : a /= 10; console.log(a)}\n",
    "check(5)\n",
    "check(0)\n",
    "check(-3)\n",
    "check(2)"
   ]
  },
  {
   "cell_type": "markdown",
   "metadata": {},
   "source": [
    "Задача 12.3 Если переменная a равна или меньше 1, а переменная b больше или равна 3, то вывести сумму этих переменных, иначе вывести их разность (результат вычитания). Проверить работу скрипта при a и b, равном 1 и 3, 0 и 6, 3 и 5."
   ]
  },
  {
   "cell_type": "code",
   "execution_count": 56,
   "metadata": {},
   "outputs": [
    {
     "name": "stdout",
     "output_type": "stream",
     "text": [
      "4\n",
      "6\n",
      "-2\n"
     ]
    }
   ],
   "source": [
    "var check = (a, b) => {a <= 1 && b >= 3 ? console.log(a + b) : console.log(a - b)}\n",
    "check(1, 3)\n",
    "check(0, 6)\n",
    "check(3, 5)"
   ]
  },
  {
   "cell_type": "markdown",
   "metadata": {},
   "source": [
    "Задача 12.4 Если переменная a больше 2-х и меньше 11-ти, или переменная b больше или равна 6-ти и меньше 14-ти, то вывести 'Верно', в противном случае вывести 'Неверно'."
   ]
  },
  {
   "cell_type": "code",
   "execution_count": 8,
   "metadata": {},
   "outputs": [
    {
     "name": "stdout",
     "output_type": "stream",
     "text": [
      "Неверно\n",
      "Верно\n",
      "Верно\n"
     ]
    }
   ],
   "source": [
    "var check = (a, b) => {(a > 2 && a < 11) || (b >= 6 && b < 14)  \n",
    "    ? console.log('Верно') : console.log('Неверно')}\n",
    "check(1, 3)\n",
    "check(0, 6)\n",
    "check(3, 5)"
   ]
  },
  {
   "cell_type": "markdown",
   "metadata": {},
   "source": [
    "## Задание 13: «Работа со switch-case»"
   ]
  },
  {
   "cell_type": "markdown",
   "metadata": {},
   "source": [
    "Задача 13 Переменная num может принимать 4 значения: 1, 2, 3 или 4. Если она имеет значение '1', то в переменную result записать 'зима', если имеет значение '2' – 'весна' и так далее. Решить задачу через switch-case."
   ]
  },
  {
   "cell_type": "code",
   "execution_count": 59,
   "metadata": {},
   "outputs": [
    {
     "name": "stdout",
     "output_type": "stream",
     "text": [
      "весна\n"
     ]
    }
   ],
   "source": [
    "var seasons = num => {\n",
    "    switch(num) {\n",
    "        case 1: {\n",
    "            result = 'зима';\n",
    "            break;\n",
    "        }\n",
    "        case 2: {\n",
    "            result = 'весна';\n",
    "            break;\n",
    "        }\n",
    "        case 3: {\n",
    "            result = 'лето';\n",
    "            break;\n",
    "        }\n",
    "        case 4: {\n",
    "            result = 'осень';\n",
    "            break;\n",
    "        }\n",
    "    }\n",
    "}\n",
    "\n",
    "seasons(2)\n",
    "console.log(result)"
   ]
  },
  {
   "cell_type": "markdown",
   "metadata": {},
   "source": [
    "## Задание 14: «Циклы while и for»"
   ]
  },
  {
   "cell_type": "markdown",
   "metadata": {},
   "source": [
    "### Решить эти задачи сначала через цикл while, а затем через цикл for:"
   ]
  },
  {
   "cell_type": "markdown",
   "metadata": {},
   "source": [
    "Задача 14.1 Вывести столбец чисел от 1 до 100."
   ]
  },
  {
   "cell_type": "code",
   "execution_count": 77,
   "metadata": {},
   "outputs": [
    {
     "name": "stdout",
     "output_type": "stream",
     "text": [
      "While-Loop\n",
      "1\n",
      "2\n",
      "3\n",
      "4\n",
      "5\n",
      "6\n",
      "7\n",
      "8\n",
      "9\n",
      "10\n",
      "11\n",
      "12\n",
      "13\n",
      "14\n",
      "15\n",
      "16\n",
      "17\n",
      "18\n",
      "19\n",
      "20\n",
      "21\n",
      "22\n",
      "23\n",
      "24\n",
      "25\n",
      "26\n",
      "27\n",
      "28\n",
      "29\n",
      "30\n",
      "31\n",
      "32\n",
      "33\n",
      "34\n",
      "35\n",
      "36\n",
      "37\n",
      "38\n",
      "39\n",
      "40\n",
      "41\n",
      "42\n",
      "43\n",
      "44\n",
      "45\n",
      "46\n",
      "47\n",
      "48\n",
      "49\n",
      "50\n",
      "51\n",
      "52\n",
      "53\n",
      "54\n",
      "55\n",
      "56\n",
      "57\n",
      "58\n",
      "59\n",
      "60\n",
      "61\n",
      "62\n",
      "63\n",
      "64\n",
      "65\n",
      "66\n",
      "67\n",
      "68\n",
      "69\n",
      "70\n",
      "71\n",
      "72\n",
      "73\n",
      "74\n",
      "75\n",
      "76\n",
      "77\n",
      "78\n",
      "79\n",
      "80\n",
      "81\n",
      "82\n",
      "83\n",
      "84\n",
      "85\n",
      "86\n",
      "87\n",
      "88\n",
      "89\n",
      "90\n",
      "91\n",
      "92\n",
      "93\n",
      "94\n",
      "95\n",
      "96\n",
      "97\n",
      "98\n",
      "99\n",
      "100\n"
     ]
    },
    {
     "data": {
      "text/plain": [
       "100"
      ]
     },
     "execution_count": 77,
     "metadata": {},
     "output_type": "execute_result"
    }
   ],
   "source": [
    "console.log('While-Loop');\n",
    "var i = 1;\n",
    "while(i <= 100) {\n",
    "    console.log(i);\n",
    "    i++;\n",
    "}"
   ]
  },
  {
   "cell_type": "code",
   "execution_count": 71,
   "metadata": {},
   "outputs": [
    {
     "name": "stdout",
     "output_type": "stream",
     "text": [
      "For-Loop\n",
      "1\n",
      "2\n",
      "3\n",
      "4\n",
      "5\n",
      "6\n",
      "7\n",
      "8\n",
      "9\n",
      "10\n",
      "11\n",
      "12\n",
      "13\n",
      "14\n",
      "15\n",
      "16\n",
      "17\n",
      "18\n",
      "19\n",
      "20\n",
      "21\n",
      "22\n",
      "23\n",
      "24\n",
      "25\n",
      "26\n",
      "27\n",
      "28\n",
      "29\n",
      "30\n",
      "31\n",
      "32\n",
      "33\n",
      "34\n",
      "35\n",
      "36\n",
      "37\n",
      "38\n",
      "39\n",
      "40\n",
      "41\n",
      "42\n",
      "43\n",
      "44\n",
      "45\n",
      "46\n",
      "47\n",
      "48\n",
      "49\n",
      "50\n",
      "51\n",
      "52\n",
      "53\n",
      "54\n",
      "55\n",
      "56\n",
      "57\n",
      "58\n",
      "59\n",
      "60\n",
      "61\n",
      "62\n",
      "63\n",
      "64\n",
      "65\n",
      "66\n",
      "67\n",
      "68\n",
      "69\n",
      "70\n",
      "71\n",
      "72\n",
      "73\n",
      "74\n",
      "75\n",
      "76\n",
      "77\n",
      "78\n",
      "79\n",
      "80\n",
      "81\n",
      "82\n",
      "83\n",
      "84\n",
      "85\n",
      "86\n",
      "87\n",
      "88\n",
      "89\n",
      "90\n",
      "91\n",
      "92\n",
      "93\n",
      "94\n",
      "95\n",
      "96\n",
      "97\n",
      "98\n",
      "99\n",
      "100\n"
     ]
    }
   ],
   "source": [
    "console.log('For-Loop');\n",
    "for(let i = 1; i <= 100; i++)\n",
    "    console.log(i);"
   ]
  },
  {
   "cell_type": "markdown",
   "metadata": {},
   "source": [
    "Задача 14.2 Вывести столбец чисел от 11 до 33."
   ]
  },
  {
   "cell_type": "code",
   "execution_count": 78,
   "metadata": {},
   "outputs": [
    {
     "name": "stdout",
     "output_type": "stream",
     "text": [
      "11\n",
      "12\n",
      "13\n",
      "14\n",
      "15\n",
      "16\n",
      "17\n",
      "18\n",
      "19\n",
      "20\n",
      "21\n",
      "22\n",
      "23\n",
      "24\n",
      "25\n",
      "26\n",
      "27\n",
      "28\n",
      "29\n",
      "30\n",
      "31\n",
      "32\n",
      "33\n"
     ]
    }
   ],
   "source": [
    "for(let i = 11; i <= 33; i++)\n",
    "    console.log(i);"
   ]
  },
  {
   "cell_type": "markdown",
   "metadata": {},
   "source": [
    "Задача 14.3 Вывести столбец четных чисел в промежутке от 0 до 100."
   ]
  },
  {
   "cell_type": "code",
   "execution_count": 79,
   "metadata": {},
   "outputs": [
    {
     "name": "stdout",
     "output_type": "stream",
     "text": [
      "0\n",
      "2\n",
      "4\n",
      "6\n",
      "8\n",
      "10\n",
      "12\n",
      "14\n",
      "16\n",
      "18\n",
      "20\n",
      "22\n",
      "24\n",
      "26\n",
      "28\n",
      "30\n",
      "32\n",
      "34\n",
      "36\n",
      "38\n",
      "40\n",
      "42\n",
      "44\n",
      "46\n",
      "48\n",
      "50\n",
      "52\n",
      "54\n",
      "56\n",
      "58\n",
      "60\n",
      "62\n",
      "64\n",
      "66\n",
      "68\n",
      "70\n",
      "72\n",
      "74\n",
      "76\n",
      "78\n",
      "80\n",
      "82\n",
      "84\n",
      "86\n",
      "88\n",
      "90\n",
      "92\n",
      "94\n",
      "96\n",
      "98\n",
      "100\n"
     ]
    }
   ],
   "source": [
    "for(let i = 0; i <= 100; i++) {\n",
    "    if(i % 2 == 0) console.log(i)\n",
    "}"
   ]
  },
  {
   "cell_type": "markdown",
   "metadata": {},
   "source": [
    "Задача 14.4 С помощью цикла найти сумму чисел от 1 до 100."
   ]
  },
  {
   "cell_type": "code",
   "execution_count": 81,
   "metadata": {},
   "outputs": [
    {
     "name": "stdout",
     "output_type": "stream",
     "text": [
      "5050\n"
     ]
    }
   ],
   "source": [
    "sum = 0\n",
    "\n",
    "for(let i = 1; i <= 100; i++) {\n",
    "    sum += i\n",
    "}\n",
    "\n",
    "console.log(sum)"
   ]
  },
  {
   "cell_type": "markdown",
   "metadata": {},
   "source": [
    "## Задание 15: «Работа с for для массивов»"
   ]
  },
  {
   "cell_type": "markdown",
   "metadata": {},
   "source": [
    "Задача 15.1 Дан массив с элементами [1, 2, 3, 4, 5]. С помощью цикла for вывести все эти элементы на экран."
   ]
  },
  {
   "cell_type": "code",
   "execution_count": 82,
   "metadata": {},
   "outputs": [
    {
     "name": "stdout",
     "output_type": "stream",
     "text": [
      "1\n",
      "2\n",
      "3\n",
      "4\n",
      "5\n"
     ]
    }
   ],
   "source": [
    "arr = [1, 2, 3, 4, 5]\n",
    "\n",
    "for(let i = 0; i < arr.length; i++) {\n",
    "    console.log(arr[i])\n",
    "}"
   ]
  },
  {
   "cell_type": "markdown",
   "metadata": {},
   "source": [
    "Задача 15.2 Дан массив с элементами [1, 2, 3, 4, 5]. С помощью цикла for найти сумму элементов этого массива. Записать ее в переменную result."
   ]
  },
  {
   "cell_type": "code",
   "execution_count": 83,
   "metadata": {},
   "outputs": [
    {
     "name": "stdout",
     "output_type": "stream",
     "text": [
      "15\n"
     ]
    }
   ],
   "source": [
    "arr = [1, 2, 3, 4, 5]\n",
    "result = 0\n",
    "\n",
    "for(let i = 0; i < arr.length; i++) {\n",
    "    result += arr[i]\n",
    "}\n",
    "\n",
    "console.log(result)"
   ]
  },
  {
   "cell_type": "markdown",
   "metadata": {},
   "source": [
    "## Задание 16: Работа с for-in"
   ]
  },
  {
   "cell_type": "markdown",
   "metadata": {},
   "source": [
    "Задача 16.1 Дан объект obj. С помощью цикла for-in вывести на экран ключи и элементы этого объекта.<br>var obj = {green: 'зеленый', red: 'красный', blue: 'голубой'}"
   ]
  },
  {
   "cell_type": "code",
   "execution_count": 84,
   "metadata": {},
   "outputs": [
    {
     "name": "stdout",
     "output_type": "stream",
     "text": [
      "green = зеленый\n",
      "red = красный\n",
      "blue = голубой\n"
     ]
    }
   ],
   "source": [
    "var obj = {green: 'зеленый', red: 'красный', blue: 'голубой'}\n",
    "\n",
    "for(key in obj) {\n",
    "    console.log(`${key} = ${obj[key]}`)\n",
    "}"
   ]
  },
  {
   "cell_type": "markdown",
   "metadata": {},
   "source": [
    "Задача 16.2 Дан объект obj с ключами Коля, Вася, Петя с элементами '200', '300', '400'. С помощью цикла for-in вывести на экран строки такого формата: 'Коля - зарплата 200 долларов.'."
   ]
  },
  {
   "cell_type": "code",
   "execution_count": 85,
   "metadata": {},
   "outputs": [
    {
     "name": "stdout",
     "output_type": "stream",
     "text": [
      "Коля - зарплата 200 долларов\n",
      "Вася - зарплата 300 долларов\n",
      "Петя - зарплата 400 долларов\n"
     ]
    }
   ],
   "source": [
    "var obj = {Коля: '200', Вася: '300', Петя: '400'}\n",
    "\n",
    "for(key in obj) {\n",
    "    console.log(`${key} - зарплата ${obj[key]} долларов`)\n",
    "}"
   ]
  },
  {
   "cell_type": "markdown",
   "metadata": {},
   "source": [
    "## Задачи с циклами"
   ]
  },
  {
   "cell_type": "markdown",
   "metadata": {},
   "source": [
    "17.1 Дан массив с элементами 2, 5, 9, 15, 0, 4. С помощью цикла for и оператора if вывести на экран столбец тех элементов массива, которые больше 3-х, но меньше 10."
   ]
  },
  {
   "cell_type": "code",
   "execution_count": 95,
   "metadata": {},
   "outputs": [
    {
     "name": "stdout",
     "output_type": "stream",
     "text": [
      "5\n",
      "9\n",
      "4\n"
     ]
    }
   ],
   "source": [
    "arr = [2, 5, 9, 15, 0, 4]\n",
    "\n",
    "for(i in arr) {\n",
    "    if(arr[i] > 3 && arr[i] < 10) console.log(arr[i])\n",
    "}"
   ]
  },
  {
   "cell_type": "markdown",
   "metadata": {},
   "source": [
    "17.2 Дан массив с числами. Числа могут быть положительными и отрицательными. Найти сумму положительных элементов массива."
   ]
  },
  {
   "cell_type": "code",
   "execution_count": 94,
   "metadata": {},
   "outputs": [
    {
     "name": "stdout",
     "output_type": "stream",
     "text": [
      "11\n"
     ]
    }
   ],
   "source": [
    "arr = [2, 5, -9, -15, 0, 4]\n",
    "result = 0\n",
    "\n",
    "for(i in arr) {\n",
    "    if(arr[i] >= 0) result += arr[i]\n",
    "}\n",
    "\n",
    "console.log(result)"
   ]
  },
  {
   "cell_type": "markdown",
   "metadata": {},
   "source": [
    "17.3 Дан массив с элементами 1, 2, 5, 9, 4, 13, 4, 10. С помощью цикла for и оператора if проверить есть ли в массиве элемент со значением, равным 4. Если есть - вывести на экран 'Есть!' и выйти из цикла. Если нет - ничего делать не надо."
   ]
  },
  {
   "cell_type": "code",
   "execution_count": 98,
   "metadata": {},
   "outputs": [
    {
     "name": "stdout",
     "output_type": "stream",
     "text": [
      "Есть!\n"
     ]
    }
   ],
   "source": [
    "arr = [1, 2, 5, 9, 4, 13, 4, 10]\n",
    "\n",
    "for(i in arr) {\n",
    "    if(arr[i] == 4){\n",
    "        console.log('Есть!')\n",
    "        break\n",
    "    }\n",
    "}"
   ]
  },
  {
   "cell_type": "markdown",
   "metadata": {},
   "source": [
    "17.4 Дан массив числами, например: [10, 20, 30, 50, 235, 3000]. Вывести на экран только те числа из массива, которые начинаются на цифру 1, 2 или 5."
   ]
  },
  {
   "cell_type": "code",
   "execution_count": 99,
   "metadata": {},
   "outputs": [
    {
     "name": "stdout",
     "output_type": "stream",
     "text": [
      "[ 10, 20, 50, 235 ]\n"
     ]
    }
   ],
   "source": [
    "arr = [10, 20, 30, 50, 235, 3000]\n",
    "console.log(arr.filter(num => ['1','2','5'].includes(num.toString()[0])));"
   ]
  },
  {
   "cell_type": "markdown",
   "metadata": {},
   "source": [
    "17.5 Дан массив с элементами 1, 2, 3, 4, 5, 6, 7, 8, 9. С помощью цикла for создать строку '-1-2-3-4-5-6-7-8-9-'."
   ]
  },
  {
   "cell_type": "code",
   "execution_count": 100,
   "metadata": {},
   "outputs": [
    {
     "name": "stdout",
     "output_type": "stream",
     "text": [
      "-1-2-3-4-5-6-7-8-9-\n"
     ]
    }
   ],
   "source": [
    "arr = [1, 2, 3, 4, 5, 6, 7, 8, 9]\n",
    "str = \"-\"\n",
    "for(i in arr) {\n",
    "    str += arr[i] + '-'\n",
    "}\n",
    "\n",
    "console.log(str)"
   ]
  },
  {
   "cell_type": "markdown",
   "metadata": {},
   "source": [
    "17.6 Составить массив дней недели. С помощью цикла for вывести все дни недели, а выходные дни вывести жирным."
   ]
  },
  {
   "cell_type": "code",
   "execution_count": null,
   "metadata": {},
   "outputs": [],
   "source": []
  },
  {
   "cell_type": "markdown",
   "metadata": {},
   "source": [
    "17.7 Составить массив дней недели. С помощью цикла for вывести все дни недели, а текущий день вывести курсивом. Текущий день должен храниться в переменной day."
   ]
  },
  {
   "cell_type": "code",
   "execution_count": null,
   "metadata": {},
   "outputs": [],
   "source": []
  },
  {
   "cell_type": "markdown",
   "metadata": {},
   "source": [
    "17.8 Дано число n=1000. Делите его на 2 столько раз, пока результат деления не станет меньше 50. Какое число получится? Посчитать количество итераций, необходимых для этого (итерация - это проход цикла), и записать его в переменную num."
   ]
  },
  {
   "cell_type": "code",
   "execution_count": 1,
   "metadata": {},
   "outputs": [
    {
     "name": "stdout",
     "output_type": "stream",
     "text": [
      "n = 31.25\n",
      "num = 5\n"
     ]
    }
   ],
   "source": [
    "n = 1000\n",
    "num = 0\n",
    "\n",
    "while(n >= 50) {\n",
    "    n /= 2\n",
    "    num++\n",
    "}\n",
    "\n",
    "console.log(`n = ${n}\\nnum = ${num}`)"
   ]
  }
 ],
 "metadata": {
  "kernelspec": {
   "display_name": "Javascript (Node.js)",
   "language": "javascript",
   "name": "javascript"
  },
  "language_info": {
   "file_extension": ".js",
   "mimetype": "application/javascript",
   "name": "javascript",
   "version": "12.18.3"
  }
 },
 "nbformat": 4,
 "nbformat_minor": 4
}
